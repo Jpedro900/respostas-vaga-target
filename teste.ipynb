{
 "cells": [
  {
   "cell_type": "markdown",
   "metadata": {},
   "source": [
    "## QUESTÃO 1"
   ]
  },
  {
   "cell_type": "code",
   "execution_count": 6,
   "metadata": {},
   "outputs": [
    {
     "name": "stdout",
     "output_type": "stream",
     "text": [
      "78\n"
     ]
    }
   ],
   "source": [
    "i = 13\n",
    "k = 0\n",
    "soma = 0\n",
    "\n",
    "for k in range (0, i):\n",
    "    soma += k\n",
    "\n",
    "print(soma)\n"
   ]
  },
  {
   "cell_type": "markdown",
   "metadata": {},
   "source": [
    "## QUESTÃO 2"
   ]
  },
  {
   "cell_type": "code",
   "execution_count": 10,
   "metadata": {},
   "outputs": [
    {
     "name": "stdout",
     "output_type": "stream",
     "text": [
      "O número 8 pertence à sequência de Fibonacci.\n"
     ]
    }
   ],
   "source": [
    "def pertence_a_fibonacci(numero):\n",
    "    a, b = 0, 1\n",
    "    \n",
    "    while b < numero:\n",
    "        a, b = b, a + b\n",
    "\n",
    "    if b == numero or numero == 0:\n",
    "        return f\"O número {numero} pertence à sequência de Fibonacci.\"\n",
    "    else:\n",
    "        return f\"O número {numero} NÃO pertence à sequência de Fibonacci.\"\n",
    "\n",
    "numero = int(input(\"Digite um número: \"))\n",
    "print(pertence_a_fibonacci(numero))\n"
   ]
  },
  {
   "cell_type": "markdown",
   "metadata": {},
   "source": [
    "## QUESTÃO 3"
   ]
  },
  {
   "cell_type": "code",
   "execution_count": 7,
   "metadata": {},
   "outputs": [
    {
     "name": "stdout",
     "output_type": "stream",
     "text": [
      "Menor faturamento: 373.78\n",
      "Maior faturamento: 48924.24\n",
      "Dias acima da média: 10\n"
     ]
    }
   ],
   "source": [
    "import json\n",
    "\n",
    "def analisar_faturamento(dados):\n",
    "    faturamento_validos = [dia[\"valor\"] for dia in dados if dia[\"valor\"] > 0]\n",
    "    menor = min(faturamento_validos)\n",
    "    maior = max(faturamento_validos)\n",
    "    media = sum(faturamento_validos) / len(faturamento_validos)\n",
    "    dias_acima_da_media = len([dia for dia in faturamento_validos if dia > media])\n",
    "    return menor, maior, dias_acima_da_media\n",
    "\n",
    "dados_faturamento = [\n",
    "    {\"dia\": 1, \"valor\": 22174.1664}, {\"dia\": 2, \"valor\": 24537.6698},\n",
    "    {\"dia\": 3, \"valor\": 26139.6134}, {\"dia\": 4, \"valor\": 0.0},\n",
    "    {\"dia\": 5, \"valor\": 0.0}, {\"dia\": 6, \"valor\": 26742.6612},\n",
    "    {\"dia\": 7, \"valor\": 0.0}, {\"dia\": 8, \"valor\": 42889.2258},\n",
    "    {\"dia\": 9, \"valor\": 46251.174}, {\"dia\": 10, \"valor\": 11191.4722},\n",
    "    {\"dia\": 11, \"valor\": 0.0}, {\"dia\": 12, \"valor\": 0.0},\n",
    "    {\"dia\": 13, \"valor\": 3847.4823}, {\"dia\": 14, \"valor\": 373.7838},\n",
    "    {\"dia\": 15, \"valor\": 2659.7563}, {\"dia\": 16, \"valor\": 48924.2448},\n",
    "    {\"dia\": 17, \"valor\": 18419.2614}, {\"dia\": 18, \"valor\": 0.0},\n",
    "    {\"dia\": 19, \"valor\": 0.0}, {\"dia\": 20, \"valor\": 35240.1826},\n",
    "    {\"dia\": 21, \"valor\": 43829.1667}, {\"dia\": 22, \"valor\": 18235.6852},\n",
    "    {\"dia\": 23, \"valor\": 4355.0662}, {\"dia\": 24, \"valor\": 13327.1025},\n",
    "    {\"dia\": 25, \"valor\": 0.0}, {\"dia\": 26, \"valor\": 0.0},\n",
    "    {\"dia\": 27, \"valor\": 25681.8318}, {\"dia\": 28, \"valor\": 1718.1221},\n",
    "    {\"dia\": 29, \"valor\": 13220.495}, {\"dia\": 30, \"valor\": 8414.61}\n",
    "]\n",
    "\n",
    "menor, maior, dias_acima = analisar_faturamento(dados_faturamento)\n",
    "print(f\"Menor faturamento: {menor:.2f}\")\n",
    "print(f\"Maior faturamento: {maior:.2f}\")\n",
    "print(f\"Dias acima da média: {dias_acima}\")\n"
   ]
  },
  {
   "cell_type": "markdown",
   "metadata": {},
   "source": [
    "## QUESTÃO 4"
   ]
  },
  {
   "cell_type": "code",
   "execution_count": 8,
   "metadata": {},
   "outputs": [
    {
     "name": "stdout",
     "output_type": "stream",
     "text": [
      "SP: 37.53%\n",
      "RJ: 20.29%\n",
      "MG: 16.17%\n",
      "ES: 15.03%\n",
      "Outros: 10.98%\n"
     ]
    }
   ],
   "source": [
    "def calcular_percentuais(faturamento_estados):\n",
    "    total = sum(faturamento_estados.values())\n",
    "    percentuais = {estado: (valor / total) * 100 for estado, valor in faturamento_estados.items()}\n",
    "    return percentuais\n",
    "\n",
    "faturamento_estados = {\n",
    "    \"SP\": 67836.43,\n",
    "    \"RJ\": 36678.66,\n",
    "    \"MG\": 29229.88,\n",
    "    \"ES\": 27165.48,\n",
    "    \"Outros\": 19849.53\n",
    "}\n",
    "\n",
    "percentuais = calcular_percentuais(faturamento_estados)\n",
    "for estado, percentual in percentuais.items():\n",
    "    print(f\"{estado}: {percentual:.2f}%\")\n",
    "    "
   ]
  },
  {
   "cell_type": "markdown",
   "metadata": {},
   "source": [
    "## QUESTÃO 5"
   ]
  },
  {
   "cell_type": "code",
   "execution_count": 9,
   "metadata": {},
   "outputs": [
    {
     "name": "stdout",
     "output_type": "stream",
     "text": [
      "String invertida: nohtyP\n"
     ]
    }
   ],
   "source": [
    "def inverter_string(s):\n",
    "    string_invertida = \"\"\n",
    "    for i in range(len(s)-1, -1, -1):\n",
    "        string_invertida += s[i]\n",
    "    return string_invertida\n",
    "\n",
    "entrada = input(\"Digite uma string: \")\n",
    "resultado = inverter_string(entrada)\n",
    "print(\"String invertida:\", resultado)\n"
   ]
  }
 ],
 "metadata": {
  "kernelspec": {
   "display_name": "Python 3",
   "language": "python",
   "name": "python3"
  },
  "language_info": {
   "codemirror_mode": {
    "name": "ipython",
    "version": 3
   },
   "file_extension": ".py",
   "mimetype": "text/x-python",
   "name": "python",
   "nbconvert_exporter": "python",
   "pygments_lexer": "ipython3",
   "version": "3.10.6"
  }
 },
 "nbformat": 4,
 "nbformat_minor": 2
}
